{
 "cells": [
  {
   "cell_type": "code",
   "execution_count": 2,
   "id": "a77023c2",
   "metadata": {},
   "outputs": [],
   "source": [
    "import json\n",
    "import pandas as pd\n",
    "import re"
   ]
  },
  {
   "cell_type": "markdown",
   "id": "5381cdbd",
   "metadata": {},
   "source": [
    "# Intro\n",
    "\n",
    "Contains two colums\n",
    "* comment - actual comments\n",
    "* isScam - whether its a scam or not"
   ]
  },
  {
   "cell_type": "markdown",
   "id": "f4f4ff9f",
   "metadata": {},
   "source": [
    "## bad_final.json"
   ]
  },
  {
   "cell_type": "code",
   "execution_count": 2,
   "id": "8cf92a56",
   "metadata": {},
   "outputs": [],
   "source": [
    "badFinalName = \"./bad_final.json\""
   ]
  },
  {
   "cell_type": "code",
   "execution_count": 3,
   "id": "b5a57881",
   "metadata": {},
   "outputs": [],
   "source": [
    "Lines = open(badFinalName, 'r').readlines()\n",
    "data = []\n",
    "for itr,line in enumerate(Lines):\n",
    "    record = json.loads(line)\n",
    "    comment = record.get(\"comments\")\n",
    "    data.append([' '.join(comment), \"FALSE\"])\n",
    "dfBadFinal = pd.DataFrame(data,columns=[\"Statement\",\"Label\"])"
   ]
  },
  {
   "cell_type": "markdown",
   "id": "44390c53",
   "metadata": {},
   "source": [
    "## good (1).txt"
   ]
  },
  {
   "cell_type": "code",
   "execution_count": 4,
   "id": "b38bc93d",
   "metadata": {},
   "outputs": [],
   "source": [
    "goodName = \"./good (1).txt\"\n",
    "regex = r'\"(.*)\"'"
   ]
  },
  {
   "cell_type": "code",
   "execution_count": 5,
   "id": "a3c9ab32",
   "metadata": {},
   "outputs": [],
   "source": [
    "Lines = open(goodName, 'rb').read().decode()\n",
    "splitLines = Lines.split(\"Comment\")"
   ]
  },
  {
   "cell_type": "code",
   "execution_count": 6,
   "id": "13aa77a4",
   "metadata": {},
   "outputs": [],
   "source": [
    "data = []\n",
    "for l in splitLines:\n",
    "    matches = re.finditer(regex, l, re.MULTILINE)\n",
    "    data.append([' '.join([m[1] for m in matches]), \"TRUE\"])\n",
    "dfGood1 = pd.DataFrame(data,columns=[\"Statement\",\"Label\"])  "
   ]
  },
  {
   "cell_type": "markdown",
   "id": "dfbf506d",
   "metadata": {},
   "source": [
    "## risky(1).txt"
   ]
  },
  {
   "cell_type": "code",
   "execution_count": 7,
   "id": "ec812185",
   "metadata": {},
   "outputs": [],
   "source": [
    "riskyName = \"./risky (1).txt\"\n",
    "regex = r'\"(.*)\"'"
   ]
  },
  {
   "cell_type": "code",
   "execution_count": 8,
   "id": "340ee5b2",
   "metadata": {},
   "outputs": [],
   "source": [
    "Lines = open(riskyName, 'rb').read().decode()\n",
    "splitLines = Lines.split(\"Comment\")"
   ]
  },
  {
   "cell_type": "code",
   "execution_count": 9,
   "id": "dc193b43",
   "metadata": {},
   "outputs": [],
   "source": [
    "data = []\n",
    "for l in splitLines:\n",
    "    matches = re.finditer(regex, l, re.MULTILINE)\n",
    "    data.append([' '.join([m[1] for m in matches]), \"FALSE\"])\n",
    "dfRisky1 = pd.DataFrame(data,columns=[\"Statement\",\"Label\"]) "
   ]
  },
  {
   "cell_type": "markdown",
   "id": "c0131b5d",
   "metadata": {},
   "source": [
    "## Suspected.json"
   ]
  },
  {
   "cell_type": "code",
   "execution_count": 10,
   "id": "abc972e4",
   "metadata": {},
   "outputs": [],
   "source": [
    "suspectedName = \"./suspects.json\"\n",
    "regex = r'<description>([^<]*)</description>'"
   ]
  },
  {
   "cell_type": "code",
   "execution_count": 11,
   "id": "e53f0471",
   "metadata": {},
   "outputs": [],
   "source": [
    "pdData = pd.read_json(suspectedName)\n",
    "pdData = pdData.drop('wallet', axis=1)"
   ]
  },
  {
   "cell_type": "code",
   "execution_count": 14,
   "id": "cd2d5602",
   "metadata": {},
   "outputs": [
    {
     "data": {
      "text/html": [
       "<div>\n",
       "<style scoped>\n",
       "    .dataframe tbody tr th:only-of-type {\n",
       "        vertical-align: middle;\n",
       "    }\n",
       "\n",
       "    .dataframe tbody tr th {\n",
       "        vertical-align: top;\n",
       "    }\n",
       "\n",
       "    .dataframe thead th {\n",
       "        text-align: right;\n",
       "    }\n",
       "</style>\n",
       "<table border=\"1\" class=\"dataframe\">\n",
       "  <thead>\n",
       "    <tr style=\"text-align: right;\">\n",
       "      <th></th>\n",
       "      <th>comments</th>\n",
       "    </tr>\n",
       "  </thead>\n",
       "  <tbody>\n",
       "    <tr>\n",
       "      <th>0</th>\n",
       "      <td>&lt;?xml version=\"1.0\" encoding=\"utf-8\"?&gt;\\n&lt;rss x...</td>\n",
       "    </tr>\n",
       "    <tr>\n",
       "      <th>1</th>\n",
       "      <td>&lt;?xml version=\"1.0\" encoding=\"utf-8\"?&gt;\\n&lt;rss x...</td>\n",
       "    </tr>\n",
       "    <tr>\n",
       "      <th>2</th>\n",
       "      <td>&lt;?xml version=\"1.0\" encoding=\"utf-8\"?&gt;\\n&lt;rss x...</td>\n",
       "    </tr>\n",
       "    <tr>\n",
       "      <th>3</th>\n",
       "      <td>&lt;?xml version=\"1.0\" encoding=\"utf-8\"?&gt;\\n&lt;rss x...</td>\n",
       "    </tr>\n",
       "    <tr>\n",
       "      <th>4</th>\n",
       "      <td>&lt;?xml version=\"1.0\" encoding=\"utf-8\"?&gt;\\n&lt;rss x...</td>\n",
       "    </tr>\n",
       "    <tr>\n",
       "      <th>5</th>\n",
       "      <td>&lt;?xml version=\"1.0\" encoding=\"utf-8\"?&gt;\\n&lt;rss x...</td>\n",
       "    </tr>\n",
       "    <tr>\n",
       "      <th>6</th>\n",
       "      <td>&lt;?xml version=\"1.0\" encoding=\"utf-8\"?&gt;\\n&lt;rss x...</td>\n",
       "    </tr>\n",
       "    <tr>\n",
       "      <th>7</th>\n",
       "      <td>&lt;?xml version=\"1.0\" encoding=\"utf-8\"?&gt;\\n&lt;rss x...</td>\n",
       "    </tr>\n",
       "    <tr>\n",
       "      <th>8</th>\n",
       "      <td>&lt;?xml version=\"1.0\" encoding=\"utf-8\"?&gt;\\n&lt;rss x...</td>\n",
       "    </tr>\n",
       "    <tr>\n",
       "      <th>9</th>\n",
       "      <td>&lt;?xml version=\"1.0\" encoding=\"utf-8\"?&gt;\\n&lt;rss x...</td>\n",
       "    </tr>\n",
       "    <tr>\n",
       "      <th>10</th>\n",
       "      <td>&lt;?xml version=\"1.0\" encoding=\"utf-8\"?&gt;\\n&lt;rss x...</td>\n",
       "    </tr>\n",
       "    <tr>\n",
       "      <th>11</th>\n",
       "      <td>&lt;?xml version=\"1.0\" encoding=\"utf-8\"?&gt;\\n&lt;rss x...</td>\n",
       "    </tr>\n",
       "    <tr>\n",
       "      <th>12</th>\n",
       "      <td>&lt;?xml version=\"1.0\" encoding=\"utf-8\"?&gt;\\n&lt;rss x...</td>\n",
       "    </tr>\n",
       "    <tr>\n",
       "      <th>13</th>\n",
       "      <td>&lt;?xml version=\"1.0\" encoding=\"utf-8\"?&gt;\\n&lt;rss x...</td>\n",
       "    </tr>\n",
       "    <tr>\n",
       "      <th>14</th>\n",
       "      <td>&lt;?xml version=\"1.0\" encoding=\"utf-8\"?&gt;\\n&lt;rss x...</td>\n",
       "    </tr>\n",
       "    <tr>\n",
       "      <th>15</th>\n",
       "      <td>&lt;?xml version=\"1.0\" encoding=\"utf-8\"?&gt;\\n&lt;rss x...</td>\n",
       "    </tr>\n",
       "    <tr>\n",
       "      <th>16</th>\n",
       "      <td>&lt;?xml version=\"1.0\" encoding=\"utf-8\"?&gt;\\n&lt;rss x...</td>\n",
       "    </tr>\n",
       "    <tr>\n",
       "      <th>17</th>\n",
       "      <td>&lt;?xml version=\"1.0\" encoding=\"utf-8\"?&gt;\\n&lt;rss x...</td>\n",
       "    </tr>\n",
       "    <tr>\n",
       "      <th>18</th>\n",
       "      <td>&lt;?xml version=\"1.0\" encoding=\"utf-8\"?&gt;\\n&lt;rss x...</td>\n",
       "    </tr>\n",
       "    <tr>\n",
       "      <th>19</th>\n",
       "      <td>&lt;?xml version=\"1.0\" encoding=\"utf-8\"?&gt;\\n&lt;rss x...</td>\n",
       "    </tr>\n",
       "    <tr>\n",
       "      <th>20</th>\n",
       "      <td>&lt;?xml version=\"1.0\" encoding=\"utf-8\"?&gt;\\n&lt;rss x...</td>\n",
       "    </tr>\n",
       "  </tbody>\n",
       "</table>\n",
       "</div>"
      ],
      "text/plain": [
       "                                             comments\n",
       "0   <?xml version=\"1.0\" encoding=\"utf-8\"?>\\n<rss x...\n",
       "1   <?xml version=\"1.0\" encoding=\"utf-8\"?>\\n<rss x...\n",
       "2   <?xml version=\"1.0\" encoding=\"utf-8\"?>\\n<rss x...\n",
       "3   <?xml version=\"1.0\" encoding=\"utf-8\"?>\\n<rss x...\n",
       "4   <?xml version=\"1.0\" encoding=\"utf-8\"?>\\n<rss x...\n",
       "5   <?xml version=\"1.0\" encoding=\"utf-8\"?>\\n<rss x...\n",
       "6   <?xml version=\"1.0\" encoding=\"utf-8\"?>\\n<rss x...\n",
       "7   <?xml version=\"1.0\" encoding=\"utf-8\"?>\\n<rss x...\n",
       "8   <?xml version=\"1.0\" encoding=\"utf-8\"?>\\n<rss x...\n",
       "9   <?xml version=\"1.0\" encoding=\"utf-8\"?>\\n<rss x...\n",
       "10  <?xml version=\"1.0\" encoding=\"utf-8\"?>\\n<rss x...\n",
       "11  <?xml version=\"1.0\" encoding=\"utf-8\"?>\\n<rss x...\n",
       "12  <?xml version=\"1.0\" encoding=\"utf-8\"?>\\n<rss x...\n",
       "13  <?xml version=\"1.0\" encoding=\"utf-8\"?>\\n<rss x...\n",
       "14  <?xml version=\"1.0\" encoding=\"utf-8\"?>\\n<rss x...\n",
       "15  <?xml version=\"1.0\" encoding=\"utf-8\"?>\\n<rss x...\n",
       "16  <?xml version=\"1.0\" encoding=\"utf-8\"?>\\n<rss x...\n",
       "17  <?xml version=\"1.0\" encoding=\"utf-8\"?>\\n<rss x...\n",
       "18  <?xml version=\"1.0\" encoding=\"utf-8\"?>\\n<rss x...\n",
       "19  <?xml version=\"1.0\" encoding=\"utf-8\"?>\\n<rss x...\n",
       "20  <?xml version=\"1.0\" encoding=\"utf-8\"?>\\n<rss x..."
      ]
     },
     "execution_count": 14,
     "metadata": {},
     "output_type": "execute_result"
    }
   ],
   "source": [
    "pdData"
   ]
  },
  {
   "cell_type": "code",
   "execution_count": 12,
   "id": "96d53785",
   "metadata": {},
   "outputs": [],
   "source": [
    "def processXML(data):\n",
    "    matches = re.finditer(regex, data, re.MULTILINE)\n",
    "    return ' '.join([m[1] for m in matches])"
   ]
  },
  {
   "cell_type": "code",
   "execution_count": 19,
   "id": "fa4666f2",
   "metadata": {},
   "outputs": [],
   "source": [
    "pdData[\"Statement\"] = pdData[\"comments\"].apply(processXML)\n",
    "pdData[\"Label\"] = \"FALSE\"\n",
    "pdData[\"Statement\"] = pdData[\"Statement\"]\n",
    "dfSuspected = pdData.drop(\"comments\",axis=1)"
   ]
  },
  {
   "cell_type": "markdown",
   "id": "b5ad4470",
   "metadata": {},
   "source": [
    "## Results"
   ]
  },
  {
   "cell_type": "code",
   "execution_count": 20,
   "id": "c9ba7b39",
   "metadata": {},
   "outputs": [],
   "source": [
    "dfFinal = dfBadFinal\n",
    "dfFinal = dfFinal.append(dfGood1, ignore_index=True)\n",
    "dfFinal = dfFinal.append(dfRisky1,ignore_index=True)\n",
    "dfFinal = dfFinal.append(dfSuspected,ignore_index=True)\n",
    "dfFinal = dfFinal[dfFinal[\"Statement\"]!='']"
   ]
  },
  {
   "cell_type": "code",
   "execution_count": 27,
   "id": "e5c230ed",
   "metadata": {},
   "outputs": [],
   "source": [
    "dfFinal.to_pickle(\"./Combined.pkl\")\n",
    "dfFinal.to_csv(\"./Combined.csv\", index=False)"
   ]
  },
  {
   "cell_type": "code",
   "execution_count": 26,
   "id": "4ffe8cb0",
   "metadata": {},
   "outputs": [
    {
     "data": {
      "text/html": [
       "<div>\n",
       "<style scoped>\n",
       "    .dataframe tbody tr th:only-of-type {\n",
       "        vertical-align: middle;\n",
       "    }\n",
       "\n",
       "    .dataframe tbody tr th {\n",
       "        vertical-align: top;\n",
       "    }\n",
       "\n",
       "    .dataframe thead th {\n",
       "        text-align: right;\n",
       "    }\n",
       "</style>\n",
       "<table border=\"1\" class=\"dataframe\">\n",
       "  <thead>\n",
       "    <tr style=\"text-align: right;\">\n",
       "      <th></th>\n",
       "      <th>Statement</th>\n",
       "      <th>Label</th>\n",
       "    </tr>\n",
       "  </thead>\n",
       "  <tbody>\n",
       "    <tr>\n",
       "      <th>count</th>\n",
       "      <td>445</td>\n",
       "      <td>445</td>\n",
       "    </tr>\n",
       "    <tr>\n",
       "      <th>unique</th>\n",
       "      <td>425</td>\n",
       "      <td>2</td>\n",
       "    </tr>\n",
       "    <tr>\n",
       "      <th>top</th>\n",
       "      <td>Scammerâ€™s wallet</td>\n",
       "      <td>FALSE</td>\n",
       "    </tr>\n",
       "    <tr>\n",
       "      <th>freq</th>\n",
       "      <td>7</td>\n",
       "      <td>435</td>\n",
       "    </tr>\n",
       "  </tbody>\n",
       "</table>\n",
       "</div>"
      ],
      "text/plain": [
       "                 Statement  Label\n",
       "count                  445    445\n",
       "unique                 425      2\n",
       "top     Scammerâ€™s wallet  FALSE\n",
       "freq                     7    435"
      ]
     },
     "execution_count": 26,
     "metadata": {},
     "output_type": "execute_result"
    }
   ],
   "source": [
    "dfFinal.describe()"
   ]
  },
  {
   "cell_type": "markdown",
   "id": "81ffd943",
   "metadata": {},
   "source": [
    "## Process pkl"
   ]
  },
  {
   "cell_type": "code",
   "execution_count": 4,
   "id": "d4ada25b",
   "metadata": {},
   "outputs": [],
   "source": [
    "data = pd.read_pickle(\"./Combined.pkl\")"
   ]
  },
  {
   "cell_type": "code",
   "execution_count": 5,
   "id": "15d90a92",
   "metadata": {},
   "outputs": [
    {
     "data": {
      "text/html": [
       "<div>\n",
       "<style scoped>\n",
       "    .dataframe tbody tr th:only-of-type {\n",
       "        vertical-align: middle;\n",
       "    }\n",
       "\n",
       "    .dataframe tbody tr th {\n",
       "        vertical-align: top;\n",
       "    }\n",
       "\n",
       "    .dataframe thead th {\n",
       "        text-align: right;\n",
       "    }\n",
       "</style>\n",
       "<table border=\"1\" class=\"dataframe\">\n",
       "  <thead>\n",
       "    <tr style=\"text-align: right;\">\n",
       "      <th></th>\n",
       "      <th>Statement</th>\n",
       "      <th>Label</th>\n",
       "    </tr>\n",
       "  </thead>\n",
       "  <tbody>\n",
       "    <tr>\n",
       "      <th>0</th>\n",
       "      <td>Wallet belongs to a scammer</td>\n",
       "      <td>FALSE</td>\n",
       "    </tr>\n",
       "    <tr>\n",
       "      <th>1</th>\n",
       "      <td>ok this is a scammer account&amp;lt;br&amp;gt;I ask yo...</td>\n",
       "      <td>FALSE</td>\n",
       "    </tr>\n",
       "    <tr>\n",
       "      <th>2</th>\n",
       "      <td>Contact cybershark591@gmail.com Contact the of...</td>\n",
       "      <td>FALSE</td>\n",
       "    </tr>\n",
       "    <tr>\n",
       "      <th>3</th>\n",
       "      <td>SCAM ACCOUNT SCAMMER ACCOUNT, REPORT TO THE AU...</td>\n",
       "      <td>FALSE</td>\n",
       "    </tr>\n",
       "    <tr>\n",
       "      <th>4</th>\n",
       "      <td>SEND MONEY BACK. I NEED IT PLEASE 0.78 ETH 0xb...</td>\n",
       "      <td>FALSE</td>\n",
       "    </tr>\n",
       "  </tbody>\n",
       "</table>\n",
       "</div>"
      ],
      "text/plain": [
       "                                           Statement  Label\n",
       "0                        Wallet belongs to a scammer  FALSE\n",
       "1  ok this is a scammer account&lt;br&gt;I ask yo...  FALSE\n",
       "2  Contact cybershark591@gmail.com Contact the of...  FALSE\n",
       "3  SCAM ACCOUNT SCAMMER ACCOUNT, REPORT TO THE AU...  FALSE\n",
       "4  SEND MONEY BACK. I NEED IT PLEASE 0.78 ETH 0xb...  FALSE"
      ]
     },
     "execution_count": 5,
     "metadata": {},
     "output_type": "execute_result"
    }
   ],
   "source": [
    "data.head()"
   ]
  },
  {
   "cell_type": "code",
   "execution_count": 7,
   "id": "a2840920",
   "metadata": {},
   "outputs": [],
   "source": [
    "data.to_csv(\"./custom_processed.csv\", index=False)"
   ]
  },
  {
   "cell_type": "code",
   "execution_count": null,
   "id": "2f519c73",
   "metadata": {},
   "outputs": [],
   "source": []
  }
 ],
 "metadata": {
  "kernelspec": {
   "display_name": "Python 3",
   "language": "python",
   "name": "python3"
  },
  "language_info": {
   "codemirror_mode": {
    "name": "ipython",
    "version": 3
   },
   "file_extension": ".py",
   "mimetype": "text/x-python",
   "name": "python",
   "nbconvert_exporter": "python",
   "pygments_lexer": "ipython3",
   "version": "3.8.5"
  }
 },
 "nbformat": 4,
 "nbformat_minor": 5
}
